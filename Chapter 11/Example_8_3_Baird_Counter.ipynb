{
 "cells": [
  {
   "cell_type": "code",
   "execution_count": 3,
   "metadata": {},
   "outputs": [],
   "source": [
    "import matplotlib.pyplot as plt\n",
    "import numpy as np\n",
    "episodes = 1000\n",
    "gamma = 0.99\n",
    "alpha = 0.01\n",
    "rho_dashed = 0\n",
    "rho_solid = 1/(1/7)\n",
    "reward = 0\n",
    "numofstates = 7\n",
    "\n",
    "theta = [1,1,1,1,1,1,10,1]\n",
    "thetas = np.zeros([len(theta),episodes])\n",
    "value = np.zeros(7)\n",
    "features = np.zeros([7,8])\n",
    "for i in range(7):\n",
    "    features[i][i] = 2\n",
    "    features[i][7] = 1\n",
    "features[6][6] = 1\n",
    "features[6][7] = 2\n"
   ]
  },
  {
   "cell_type": "code",
   "execution_count": 4,
   "metadata": {
    "collapsed": true
   },
   "outputs": [],
   "source": [
    "def execute_action(state):\n",
    "    #solid action\n",
    "    if np.random.binomial(1,1/7) == 1:\n",
    "        return 1, numofstates-1\n",
    "    else:\n",
    "        return 0, np.random.randint(0, numofstates-1)\n"
   ]
  },
  {
   "cell_type": "code",
   "execution_count": 5,
   "metadata": {},
   "outputs": [
    {
     "data": {
      "image/png": "[encoded data removed]",
      "text/plain": [
       "<matplotlib.figure.Figure at 0x2b8eb42bc438>"
      ]
     },
     "metadata": {},
     "output_type": "display_data"
    }
   ],
   "source": [
    "for i in range(1000):    \n",
    "    state = np.random.randint(0,numofstates)\n",
    "    action, next_state = execute_action(state)\n",
    "    \n",
    "    if action == 1:\n",
    "        rho = rho_solid\n",
    "    else:\n",
    "        rho = rho_dashed\n",
    "    \n",
    "    value = np.dot(features, theta)\n",
    "    delta = reward + gamma*value[next_state] - value[state]\n",
    "    delta *= rho*alpha\n",
    "    #     update theta\n",
    "    theta += features[state,:]*delta\n",
    "    thetas[:,i] = theta\n",
    "    state = next_state\n",
    "for i in range(8):\n",
    "    plt.plot(thetas[i,:],label='theta '+ str(i+1))\n",
    "plt.legend()\n",
    "plt.show()"
   ]
  },
  {
   "cell_type": "markdown",
   "metadata": {},
   "source": [
    "## Exercise\n",
    "https://classroom.udacity.com/courses/ud600/lessons/4627968925/concepts/46743885780923"
   ]
  },
  {
   "cell_type": "code",
   "execution_count": 6,
   "metadata": {},
   "outputs": [
    {
     "name": "stdout",
     "output_type": "stream",
     "text": [
      "1.42\n",
      "2.0626\n",
      "3.045778\n",
      "4.55004034\n",
      "6.8515617202\n",
      "10.3728894319\n",
      "5.22017361027\n"
     ]
    }
   ],
   "source": [
    "w = np.ones(8)\n",
    "f = np.zeros([7,8])\n",
    "for i in range(7):\n",
    "    f[i][0] = 1\n",
    "    f[i][i+1] = 2\n",
    "f[6][0] = 7\n",
    "f[6][7] = 1\n",
    "\n",
    "for i in range(7):\n",
    "    v = np.dot(f,w) \n",
    "    delta = 0.9 * v[6] - v[i]\n",
    "    w[0] += 0.1 * delta * f[i][0]\n",
    "    w[i+1] += 0.1 * delta * f[i][i+1]\n",
    "    print(w[0])\n"
   ]
  },
  {
   "cell_type": "code",
   "execution_count": null,
   "metadata": {
    "collapsed": true
   },
   "outputs": [],
   "source": []
  }
 ],
 "metadata": {
  "kernelspec": {
   "display_name": "Python 3",
   "language": "python",
   "name": "python3"
  },
  "language_info": {
   "codemirror_mode": {
    "name": "ipython",
    "version": 3
   },
   "file_extension": ".py",
   "mimetype": "text/x-python",
   "name": "python",
   "nbconvert_exporter": "python",
   "pygments_lexer": "ipython3",
   "version": "3.6.1"
  }
 },
 "nbformat": 4,
 "nbformat_minor": 2
}
