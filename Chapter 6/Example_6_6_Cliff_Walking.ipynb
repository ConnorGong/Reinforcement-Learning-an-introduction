{
 "cells": [
  {
   "cell_type": "code",
   "execution_count": 1,
   "metadata": {
    "collapsed": true
   },
   "outputs": [],
   "source": [
    "import numpy as np\n",
    "import random\n",
    "import matplotlib.pyplot as plt"
   ]
  },
  {
   "cell_type": "code",
   "execution_count": 2,
   "metadata": {
    "collapsed": true
   },
   "outputs": [],
   "source": [
    "alpha = 0.5\n",
    "epsilon = 0.1\n",
    "gamma = 1\n",
    "x_length = 12\n",
    "y_length = 4"
   ]
  },
  {
   "cell_type": "code",
   "execution_count": 3,
   "metadata": {
    "collapsed": true
   },
   "outputs": [],
   "source": [
    "def observe(x,y,a):\n",
    "    goal = 0\n",
    "    if x == x_length - 1 and y == 0:\n",
    "        goal = 1\n",
    "    if a == 0:\n",
    "        y += 1\n",
    "    if a == 1:\n",
    "        x += 1\n",
    "    if a == 2:\n",
    "        y -= 1\n",
    "    if a == 3:\n",
    "        x -= 1\n",
    "        \n",
    "    x = max(0,x)\n",
    "    x = min(x_length-1, x)\n",
    "    y = max(0,y)\n",
    "    y = min(y_length-1, y)\n",
    "# the last step still has four directions to choose, \n",
    "# it need next state to update q, and reward is -1, but after the last step, \n",
    "# it doesn't need to take the next state and action\n",
    "    if goal == 1:\n",
    "        return x,y,-1\n",
    "    if x>0 and x<x_length-1 and y==0:\n",
    "        return 0,0,-100\n",
    "    return x,y,-1"
   ]
  },
  {
   "cell_type": "code",
   "execution_count": 4,
   "metadata": {
    "collapsed": true
   },
   "outputs": [],
   "source": [
    "# this equals to observe(x,y,q,a)\n",
    "actionRewards = np.zeros((x_length, y_length, 4))\n",
    "actionRewards[:, :, :] = -1.0\n",
    "actionRewards[1:11, 1, 2] = -100.0\n",
    "actionRewards[0, 0, 1] = -100.0\n",
    "\n",
    "actionDestination = []\n",
    "for i in range(0, 12):\n",
    "    actionDestination.append([])\n",
    "    for j in range(0, 4):\n",
    "        destination = dict()\n",
    "        destination[0] = [i, min(j+1,3)]\n",
    "        destination[1] = [min(i+1,11), j]\n",
    "        if 0 < i < 11 and j == 1:\n",
    "            destination[2] = [0,0]\n",
    "        else:\n",
    "            destination[2] = [i, max(j - 1, 0)]\n",
    "        destination[3] = [max(i-1,0), j]\n",
    "        actionDestination[-1].append(destination)\n",
    "actionDestination[0][0][1] = [0,0]"
   ]
  },
  {
   "cell_type": "code",
   "execution_count": 5,
   "metadata": {
    "collapsed": true
   },
   "outputs": [
    {
     "name": "stdout",
     "output_type": "stream",
     "text": [
      "next:  1 0 1 [2, 0] 0 0\n",
      "reward:  1 0 1 -1.0 -100\n",
      "next:  1 0 2 [1, 0] 0 0\n",
      "reward:  1 0 2 -1.0 -100\n",
      "next:  2 0 1 [3, 0] 0 0\n",
      "reward:  2 0 1 -1.0 -100\n",
      "next:  2 0 2 [2, 0] 0 0\n",
      "reward:  2 0 2 -1.0 -100\n",
      "next:  2 0 3 [1, 0] 0 0\n",
      "reward:  2 0 3 -1.0 -100\n",
      "next:  3 0 1 [4, 0] 0 0\n",
      "reward:  3 0 1 -1.0 -100\n",
      "next:  3 0 2 [3, 0] 0 0\n",
      "reward:  3 0 2 -1.0 -100\n",
      "next:  3 0 3 [2, 0] 0 0\n",
      "reward:  3 0 3 -1.0 -100\n",
      "next:  4 0 1 [5, 0] 0 0\n",
      "reward:  4 0 1 -1.0 -100\n",
      "next:  4 0 2 [4, 0] 0 0\n",
      "reward:  4 0 2 -1.0 -100\n",
      "next:  4 0 3 [3, 0] 0 0\n",
      "reward:  4 0 3 -1.0 -100\n",
      "next:  5 0 1 [6, 0] 0 0\n",
      "reward:  5 0 1 -1.0 -100\n",
      "next:  5 0 2 [5, 0] 0 0\n",
      "reward:  5 0 2 -1.0 -100\n",
      "next:  5 0 3 [4, 0] 0 0\n",
      "reward:  5 0 3 -1.0 -100\n",
      "next:  6 0 1 [7, 0] 0 0\n",
      "reward:  6 0 1 -1.0 -100\n",
      "next:  6 0 2 [6, 0] 0 0\n",
      "reward:  6 0 2 -1.0 -100\n",
      "next:  6 0 3 [5, 0] 0 0\n",
      "reward:  6 0 3 -1.0 -100\n",
      "next:  7 0 1 [8, 0] 0 0\n",
      "reward:  7 0 1 -1.0 -100\n",
      "next:  7 0 2 [7, 0] 0 0\n",
      "reward:  7 0 2 -1.0 -100\n",
      "next:  7 0 3 [6, 0] 0 0\n",
      "reward:  7 0 3 -1.0 -100\n",
      "next:  8 0 1 [9, 0] 0 0\n",
      "reward:  8 0 1 -1.0 -100\n",
      "next:  8 0 2 [8, 0] 0 0\n",
      "reward:  8 0 2 -1.0 -100\n",
      "next:  8 0 3 [7, 0] 0 0\n",
      "reward:  8 0 3 -1.0 -100\n",
      "next:  9 0 1 [10, 0] 0 0\n",
      "reward:  9 0 1 -1.0 -100\n",
      "next:  9 0 2 [9, 0] 0 0\n",
      "reward:  9 0 2 -1.0 -100\n",
      "next:  9 0 3 [8, 0] 0 0\n",
      "reward:  9 0 3 -1.0 -100\n",
      "next:  10 0 2 [10, 0] 0 0\n",
      "reward:  10 0 2 -1.0 -100\n",
      "next:  10 0 3 [9, 0] 0 0\n",
      "reward:  10 0 3 -1.0 -100\n"
     ]
    }
   ],
   "source": [
    "for i in range(12):\n",
    "    for j in range(4):\n",
    "        for k in range(4):\n",
    "            x_next, y_next, reward = observe(i,j,k)\n",
    "            if [x_next,y_next] != actionDestination[i][j][k]:\n",
    "                print(\"next: \",i,j,k,actionDestination[i][j][k],x_next,y_next)\n",
    "            if reward != actionRewards[i][j][k]:\n",
    "                print(\"reward: \",i,j,k,actionRewards[i][j][k],reward)"
   ]
  },
  {
   "cell_type": "code",
   "execution_count": 6,
   "metadata": {
    "collapsed": true
   },
   "outputs": [],
   "source": [
    "def epsilon_policy(x,y,q,eps):\n",
    "    t = random.randint(0,3)\n",
    "    if random.random() < eps:\n",
    "        a = t\n",
    "    else:\n",
    "        q_max = q[x][y][0]\n",
    "        a_max = 0\n",
    "        for i in range(4):\n",
    "            if q[x][y][i] >= q_max:\n",
    "                q_max = q[x][y][i]\n",
    "                a_max = i\n",
    "        a = a_max\n",
    "    return a\n",
    "\n",
    "def max_q(x,y,q):\n",
    "    q_max = q[x][y][0]\n",
    "    a_max = 0\n",
    "    for i in range(4):\n",
    "        if q[x][y][i] >= q_max:\n",
    "            q_max = q[x][y][i]\n",
    "            a_max = i\n",
    "    a = a_max\n",
    "    return a"
   ]
  },
  {
   "cell_type": "code",
   "execution_count": 7,
   "metadata": {
    "collapsed": true
   },
   "outputs": [],
   "source": [
    "#sarsa on-policy\n",
    "def sarsa_on_policy(q):\n",
    "    runs = 20\n",
    "    rewards = np.zeros([500])\n",
    "    for j in range(runs):\n",
    "        for i in range(500):\n",
    "            reward_sum = 0\n",
    "            x = 0\n",
    "            y = 0\n",
    "            a = epsilon_policy(x,y,q,epsilon)\n",
    "            while True:\n",
    "                [x_next,y_next] = actionDestination[x][y][a]\n",
    "                reward = actionRewards[x][y][a]\n",
    "                reward_sum += reward\n",
    "                a_next = epsilon_policy(x_next,y_next,q,epsilon)\n",
    "                q[x][y][a] += alpha*(reward + gamma*q[x_next][y_next][a_next]-q[x][y][a])\n",
    "                if x == x_length - 1 and y==0:\n",
    "                    break\n",
    "                x = x_next\n",
    "                y = y_next\n",
    "                a = a_next\n",
    "            rewards[i] += reward_sum\n",
    "    rewards /= runs\n",
    "    avg_rewards = []\n",
    "    for i in range(9):\n",
    "        avg_rewards.append(np.mean(rewards[:i+1]))\n",
    "    for i in range(10,len(rewards)+1):\n",
    "        avg_rewards.append(np.mean(rewards[i-10:i]))\n",
    "    return avg_rewards"
   ]
  },
  {
   "cell_type": "code",
   "execution_count": 8,
   "metadata": {},
   "outputs": [],
   "source": [
    "def q_learning(q):\n",
    "    runs = 20\n",
    "    rewards = np.zeros([500])\n",
    "    for j in range(runs):\n",
    "        for i in range(500):\n",
    "            reward_sum = 0\n",
    "            x = 0\n",
    "            y = 0\n",
    "            while True:\n",
    "                a = epsilon_policy(x,y,q,epsilon)             \n",
    "                x_next, y_next,reward = observe(x,y,a)\n",
    "                a_next = max_q(x_next,y_next,q)\n",
    "                reward_sum += reward\n",
    "                q[x][y][a] += alpha*(reward + gamma*q[x_next][y_next][a_next]-q[x][y][a])\n",
    "                if x == x_length - 1 and y==0:\n",
    "                    break\n",
    "                x = x_next\n",
    "                y = y_next\n",
    "            rewards[i] += reward_sum\n",
    "    rewards /= runs\n",
    "    avg_rewards = []\n",
    "    for i in range(9):\n",
    "        avg_rewards.append(np.mean(rewards[:i+1]))\n",
    "    for i in range(10,len(rewards)+1):\n",
    "        avg_rewards.append(np.mean(rewards[i-10:i]))\n",
    "    return avg_rewards"
   ]
  },
  {
   "cell_type": "code",
   "execution_count": 9,
   "metadata": {},
   "outputs": [],
   "source": [
    "q = np.zeros([12,4,4])\n",
    "sarsa_rewards = sarsa_on_policy(q)"
   ]
  },
  {
   "cell_type": "code",
   "execution_count": 10,
   "metadata": {},
   "outputs": [],
   "source": [
    "qq = np.zeros([12,4,4])\n",
    "q_learning_rewards = q_learning(qq)"
   ]
  },
  {
   "cell_type": "code",
   "execution_count": 11,
   "metadata": {},
   "outputs": [
    {
     "data": {
      "image/png": "[encoded data removed]",
      "text/plain": [
       "<matplotlib.figure.Figure at 0x2b20ec5bcac8>"
      ]
     },
     "metadata": {},
     "output_type": "display_data"
    }
   ],
   "source": [
    "plt.plot(range(len(sarsa_rewards)),sarsa_rewards,label=\"sarsa\")\n",
    "plt.plot(range(len(sarsa_rewards)),q_learning_rewards,label=\"q learning\")\n",
    "plt.ylim(-100,0)\n",
    "plt.legend(loc=\"lower right\")\n",
    "plt.show()"
   ]
  },
  {
   "cell_type": "code",
   "execution_count": 12,
   "metadata": {},
   "outputs": [
    {
     "name": "stdout",
     "output_type": "stream",
     "text": [
      "Sarsa Optimal Policy\n",
      "→ → → → → → → → → → → ↓ \n",
      "→ ↑ ↑ ↑ ↑ ↑ → → ↑ ← ↑ ↓ \n",
      "↑ ← ↑ ↑ ↑ ← ← ↑ ↑ ↑ → ↓ \n",
      "↑ ← ← ← ← ← ← ← ← ← ← ← \n",
      "\n",
      "Q-learning Optimal Policy\n",
      "← ↓ → → → ↓ → → → ↓ → ↓ \n",
      "↓ ↓ ↓ ↓ ↓ ↓ ↓ ↓ ↓ ↓ ↓ ↓ \n",
      "→ → → → → → → → → → → ↓ \n",
      "↑ ← ← ← ← ← ← ← ← ← ← ← \n",
      "\n"
     ]
    }
   ],
   "source": [
    "def OptimalPolicy(q):\n",
    "    for j in range(y_length-1,-1,-1):\n",
    "        for i in range(x_length):\n",
    "            a = max_q(i,j,q)\n",
    "            if a == 0:\n",
    "                print(\"↑ \",end = \"\")\n",
    "            if a == 1:\n",
    "                print(\"→ \",end = \"\")\n",
    "            if a == 2:\n",
    "                print(\"↓ \",end = \"\")\n",
    "            if a == 3:\n",
    "                print(\"← \",end = \"\")\n",
    "        print(\"\")\n",
    "    print(\"\")\n",
    "print(\"Sarsa Optimal Policy\")\n",
    "OptimalPolicy(q)\n",
    "print(\"Q-learning Optimal Policy\")\n",
    "OptimalPolicy(qq)"
   ]
  },
  {
   "cell_type": "code",
   "execution_count": 13,
   "metadata": {
    "collapsed": true
   },
   "outputs": [],
   "source": [
    "def OptimalPath(q):\n",
    "    x = 0\n",
    "    y = 0\n",
    "    path = np.zeros([x_length,y_length]) - 1\n",
    "    end = 0\n",
    "    exist = np.zeros([x_length,y_length])\n",
    "    while (x != x_length-1 or y != 0) and end == 0:\n",
    "        a = max_q(x,y,q)\n",
    "        path[x][y] = a\n",
    "        if exist[x][y] == 1:\n",
    "            end = 1\n",
    "        exist[x][y] = 1\n",
    "        x,y,r = observe(x,y,a)\n",
    "    for j in range(y_length-1,-1,-1):\n",
    "        for i in range(x_length):\n",
    "            if i == x_length-1 and j == 0:\n",
    "                print(\" G \",end = \"\")\n",
    "                continue\n",
    "            a = path[i,j]\n",
    "            if a == -1:\n",
    "                print(\" 0 \",end = \"\")\n",
    "            elif a == 0:\n",
    "                print(\"↑ \",end = \"\")\n",
    "            elif a == 1:\n",
    "                print(\"→ \",end = \"\")\n",
    "            elif a == 2:\n",
    "                print(\"↓ \",end = \"\")\n",
    "            elif a == 3:\n",
    "                print(\"← \",end = \"\")\n",
    "        print(\"\")    "
   ]
  },
  {
   "cell_type": "code",
   "execution_count": 14,
   "metadata": {},
   "outputs": [
    {
     "name": "stdout",
     "output_type": "stream",
     "text": [
      " 0 → → → → → → → → → → ↓ \n",
      "→ ↑  0  0  0  0  0  0  0  0  0 ↓ \n",
      "↑  0  0  0  0  0  0  0  0  0  0 ↓ \n",
      "↑  0  0  0  0  0  0  0  0  0  0  G \n"
     ]
    }
   ],
   "source": [
    "OptimalPath(q)"
   ]
  },
  {
   "cell_type": "code",
   "execution_count": 15,
   "metadata": {},
   "outputs": [
    {
     "name": "stdout",
     "output_type": "stream",
     "text": [
      " 0  0  0  0  0  0  0  0  0  0  0  0 \n",
      " 0  0  0  0  0  0  0  0  0  0  0  0 \n",
      "→ → → → → → → → → → → ↓ \n",
      "↑  0  0  0  0  0  0  0  0  0  0  G \n"
     ]
    }
   ],
   "source": [
    "OptimalPath(qq)"
   ]
  },
  {
   "cell_type": "code",
   "execution_count": null,
   "metadata": {
    "collapsed": true
   },
   "outputs": [],
   "source": []
  }
 ],
 "metadata": {
  "anaconda-cloud": {},
  "kernelspec": {
   "display_name": "Python 3",
   "language": "python",
   "name": "python3"
  },
  "language_info": {
   "codemirror_mode": {
    "name": "ipython",
    "version": 3
   },
   "file_extension": ".py",
   "mimetype": "text/x-python",
   "name": "python",
   "nbconvert_exporter": "python",
   "pygments_lexer": "ipython3",
   "version": "3.6.1"
  },
  "toc": {
   "colors": {
    "hover_highlight": "#DAA520",
    "running_highlight": "#FF0000",
    "selected_highlight": "#FFD700"
   },
   "moveMenuLeft": true,
   "nav_menu": {
    "height": "12px",
    "width": "252px"
   },
   "navigate_menu": true,
   "number_sections": true,
   "sideBar": true,
   "threshold": 4,
   "toc_cell": false,
   "toc_section_display": "block",
   "toc_window_display": false,
   "widenNotebook": false
  }
 },
 "nbformat": 4,
 "nbformat_minor": 1
}
